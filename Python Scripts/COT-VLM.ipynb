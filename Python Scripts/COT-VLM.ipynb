{
 "cells": [
  {
   "cell_type": "markdown",
   "metadata": {
    "id": "tmACK26dyJck"
   },
   "source": [
    "# Import Libraries"
   ]
  },
  {
   "cell_type": "code",
   "execution_count": null,
   "metadata": {
    "id": "l8nWq9uSyEFj"
   },
   "outputs": [],
   "source": [
    "import zipfile\n",
    "import os\n",
    "import random\n",
    "import base64\n",
    "from openai import OpenAI\n",
    "from sklearn.metrics import confusion_matrix, ConfusionMatrixDisplay\n",
    "import matplotlib.pyplot as plt\n",
    "from google.colab import userdata\n",
    "import os\n",
    "import re"
   ]
  },
  {
   "cell_type": "code",
   "execution_count": null,
   "metadata": {
    "id": "vqdY31WfyQeB"
   },
   "outputs": [],
   "source": [
    "from google.colab import userdata\n",
    "import os\n",
    "\n",
    "os.environ['OPENAI_API_KEY'] = '***'"
   ]
  },
  {
   "cell_type": "code",
   "execution_count": null,
   "metadata": {
    "colab": {
     "base_uri": "https://localhost:8080/"
    },
    "id": "gvIX1QgDyXf-",
    "outputId": "cedb876e-0d27-4036-9259-c33d4e15d3af"
   },
   "outputs": [],
   "source": [
    "from google.colab import drive\n",
    "drive.mount('/content/drive')"
   ]
  },
  {
   "cell_type": "code",
   "execution_count": null,
   "metadata": {
    "id": "XxLU_xrEzbhD"
   },
   "outputs": [],
   "source": [
    "# 1. Unzip dataset\n",
    "zip_path = \"/content/drive/MyDrive/Data2.zip\"\n",
    "unzip_dir = \"/content/data2\""
   ]
  },
  {
   "cell_type": "code",
   "execution_count": null,
   "metadata": {
    "id": "IAgvU5sycC48"
   },
   "outputs": [],
   "source": [
    "with zipfile.ZipFile(zip_path, 'r') as zip_ref:\n",
    "    zip_ref.extractall(unzip_dir)"
   ]
  },
  {
   "cell_type": "code",
   "execution_count": null,
   "metadata": {
    "id": "AH13jr53cF8L"
   },
   "outputs": [],
   "source": [
    "import base64\n",
    "from openai import OpenAI\n",
    "\n",
    "client = OpenAI()\n",
    "\n",
    "# Function to encode the image\n",
    "def encode_image(image_path):\n",
    "    with open(image_path, \"rb\") as image_file:\n",
    "        return base64.b64encode(image_file.read()).decode(\"utf-8\")"
   ]
  },
  {
   "cell_type": "code",
   "execution_count": null,
   "metadata": {
    "id": "iQGc66-xcNmD"
   },
   "outputs": [],
   "source": [
    "# 1) Gather all image paths and their true labels\n",
    "all_images = []\n",
    "true_labels = []\n",
    "dir_paths = {\n",
    "    \"YES\": \"/content/data2/Data/Data/Guardrail/Yes\",\n",
    "    \"NO\":  \"/content/data2/Data/Data/Guardrail/No\"\n",
    "}\n",
    "\n",
    "\n",
    "for label, folder in dir_paths.items():\n",
    "    for fname in os.listdir(folder):\n",
    "        if fname.lower().endswith((\".jpg\", \".jpeg\", \".png\")):\n",
    "            all_images.append(os.path.join(folder, fname))\n",
    "            true_labels.append(label)"
   ]
  },
  {
   "cell_type": "code",
   "execution_count": null,
   "metadata": {
    "id": "okqbG3yocSeb"
   },
   "outputs": [],
   "source": [
    "def make_request_few_shot(base64_image, positive_shots: list, negative_shots: list):\n",
    "    negative_images = [\n",
    "        {\n",
    "            \"type\": \"image_url\",\n",
    "            \"image_url\": {\n",
    "                \"url\": f\"data:image/jpeg;base64,{tmp_img}\",\n",
    "                \"detail\": \"low\"\n",
    "            },\n",
    "        } for tmp_img in negative_shots\n",
    "    ]\n",
    "\n",
    "    positive_images = [\n",
    "        {\n",
    "            \"type\": \"image_url\",\n",
    "            \"image_url\": {\n",
    "                \"url\": f\"data:image/jpeg;base64,{tmp_img}\",\n",
    "                \"detail\": \"low\"\n",
    "            },\n",
    "        } for tmp_img in positive_shots\n",
    "    ]\n",
    "\n",
    "    content = (\n",
    "        [{\"type\": \"text\", \"text\": \"Examples of images labeled NO (no guardrails or New Jersey barriers present):\"}] +\n",
    "        negative_images +\n",
    "        [{\"type\": \"text\", \"text\": \"Examples of images labeled YES (guardrails or New Jersey barriers are present):\"}] +\n",
    "        positive_images +\n",
    "        [{\"type\": \"text\", \"text\": \"First tell me what you see. Answer YES OR NO strictly after telling me your reasoning.\"}] +\n",
    "        [{\n",
    "            \"type\": \"image_url\",\n",
    "            \"image_url\": {\n",
    "                \"url\": f\"data:image/jpeg;base64,{base64_image}\",\n",
    "                \"detail\": \"low\"\n",
    "            },\n",
    "        }]\n",
    "    )\n",
    "\n",
    "    completion = client.chat.completions.create(\n",
    "        model=\"gpt-4.1\",\n",
    "        messages=[\n",
    "            {\n",
    "                \"role\": \"user\",\n",
    "                \"content\": content,\n",
    "            },\n",
    "        ],\n",
    "    )\n",
    "\n",
    "    response_text = completion.choices[0].message.content\n",
    "    print(response_text)  # This is optional for logging\n",
    "    return response_text  # ✅ This is the actual fix!"
   ]
  },
  {
   "cell_type": "code",
   "execution_count": null,
   "metadata": {
    "id": "rkeMZUpQcYWz"
   },
   "outputs": [],
   "source": [
    "def load_and_encode_images(folder_path):\n",
    "    encoded_images = []\n",
    "    for filename in os.listdir(folder_path):\n",
    "        if filename.lower().endswith(('.png', '.jpg', '.jpeg', '.bmp', '.gif')):\n",
    "            image_path = os.path.join(folder_path, filename)\n",
    "            encoded_images.append(encode_image(image_path))\n",
    "    return encoded_images\n",
    "\n",
    "# Update with your actual folder paths\n",
    "yes_folder = '/content/drive/MyDrive/supported images/YES'\n",
    "no_folder = '/content/drive/MyDrive/supported images/NO'\n",
    "\n",
    "\n",
    "encoded_yes_images = load_and_encode_images(yes_folder)\n",
    "encoded_no_images = load_and_encode_images(no_folder)"
   ]
  },
  {
   "cell_type": "code",
   "execution_count": null,
   "metadata": {
    "id": "j1PMG9ermhKT"
   },
   "outputs": [],
   "source": []
  },
  {
   "cell_type": "code",
   "execution_count": null,
   "metadata": {
    "id": "t7AHuGRkcfmz"
   },
   "outputs": [],
   "source": [
    "# def extract_final_answer(response):\n",
    "#     if not isinstance(response, str):\n",
    "#         return \"UNKNOWN\"\n",
    "\n",
    "#     # Prioritize structured answer like: **Answer: YES**\n",
    "#     match = re.search(r\"\\banswer\\s*[:\\-]?\\s*(YES|NO)\\b\", response, re.IGNORECASE)\n",
    "#     if match:\n",
    "#         return match.group(1).upper()\n",
    "\n",
    "#     # Fallback: any standalone YES or NO\n",
    "#     fallback = re.search(r\"\\b(YES|NO)\\b\", response.upper())\n",
    "#     return fallback.group(1) if fallback else \"UNKNOWN\""
   ]
  },
  {
   "cell_type": "code",
   "execution_count": null,
   "metadata": {
    "id": "m5JcJ9PZoSad"
   },
   "outputs": [],
   "source": [
    "# import re\n",
    "\n",
    "# def extract_final_answer(response):\n",
    "#     if not isinstance(response, str):\n",
    "#         return \"UNKNOWN\"\n",
    "\n",
    "#     response = response.strip()\n",
    "\n",
    "#     # 1. Strong match: clearly labeled final answer\n",
    "#     structured_match = re.search(\n",
    "#         r\"\\b(?:final\\s*)?(?:answer|response)\\s*[:\\-]?\\s*(YES|NO)\\b\", response, re.IGNORECASE\n",
    "#     )\n",
    "#     if structured_match:\n",
    "#         return structured_match.group(1).upper()\n",
    "\n",
    "#     # 2. Flexible phrasing: common language leading to YES/NO\n",
    "#     phrased_match = re.search(\n",
    "#         r\"\\b(?:the\\s+)?(?:answer|response)\\s+(?:is|would\\s+be|should\\s+be)\\s+(YES|NO)\\b\",\n",
    "#         response, re.IGNORECASE\n",
    "#     )\n",
    "#     if phrased_match:\n",
    "#         return phrased_match.group(1).upper()\n",
    "\n",
    "#     # 3. Standalone YES/NO lines\n",
    "#     for line in response.splitlines():\n",
    "#         cleaned = line.strip().upper()\n",
    "#         if cleaned in {\"YES\", \"NO\"}:\n",
    "#             return cleaned\n",
    "\n",
    "#     # 4. Final fallback: any YES/NO appearing alone near the end\n",
    "#     fallback = re.search(r\"\\b(YES|NO)\\b\", response[-50:].upper())  # Focus only on ending part\n",
    "#     if fallback:\n",
    "#         return fallback.group(1)\n",
    "\n",
    "#     return \"UNKNOWN\""
   ]
  },
  {
   "cell_type": "code",
   "execution_count": null,
   "metadata": {
    "id": "g8Ag7Lz1tcD7"
   },
   "outputs": [],
   "source": [
    "# import re\n",
    "\n",
    "# def extract_final_answer(response):\n",
    "#     if not isinstance(response, str):\n",
    "#         return \"NO\"  # fallback to majority logic — pick \"NO\" if nothing makes sense at all\n",
    "\n",
    "#     response = response.strip()\n",
    "\n",
    "#     # 1. Strong match: \"final answer: yes\", etc.\n",
    "#     structured_match = re.search(\n",
    "#         r\"\\b(?:final\\s*)?(?:answer|response)\\s*[:\\-]?\\s*(YES|NO)\\b\", response, re.IGNORECASE\n",
    "#     )\n",
    "#     if structured_match:\n",
    "#         return structured_match.group(1).upper()\n",
    "\n",
    "#     # 2. Flexible phrasing\n",
    "#     phrased_match = re.search(\n",
    "#         r\"\\b(?:the\\s+)?(?:answer|response)\\s+(?:is|would\\s+be|should\\s+be)\\s+(YES|NO)\\b\",\n",
    "#         response, re.IGNORECASE\n",
    "#     )\n",
    "#     if phrased_match:\n",
    "#         return phrased_match.group(1).upper()\n",
    "\n",
    "#     # 3. Standalone YES/NO lines\n",
    "#     for line in response.splitlines():\n",
    "#         cleaned = line.strip().upper()\n",
    "#         if cleaned in {\"YES\", \"NO\"}:\n",
    "#             return cleaned\n",
    "\n",
    "#     # 4. Fallback: use frequency count in whole response\n",
    "#     yes_count = len(re.findall(r\"\\bYES\\b\", response.upper()))\n",
    "#     no_count = len(re.findall(r\"\\bNO\\b\", response.upper()))\n",
    "\n",
    "#     if yes_count > no_count:\n",
    "#         return \"YES\"\n",
    "#     elif no_count > yes_count:\n",
    "#         return \"NO\"\n",
    "#     else:\n",
    "#         return \"NO\"  # consistent tiebreaker if counts are equal"
   ]
  },
  {
   "cell_type": "code",
   "execution_count": null,
   "metadata": {
    "id": "WFrPTQEzzPtd"
   },
   "outputs": [],
   "source": [
    "import re\n",
    "\n",
    "def extract_final_answer(response: str) -> str:\n",
    "    \"\"\"\n",
    "    Extracts a final YES/NO from a reasoning+answer text.\n",
    "    Returns \"YES\", \"NO\", or \"NO\" as a default fallback.\n",
    "    \"\"\"\n",
    "    if not isinstance(response, str) or not response.strip():\n",
    "        return \"NO\"\n",
    "\n",
    "    # 0. Normalize whitespace, unify line endings\n",
    "    text = response.replace(\"\\r\\n\", \"\\n\").strip()\n",
    "\n",
    "    # 1. Quick clean-up: correct common typos and strip Markdown emphasis\n",
    "    #    - fix 'asnwer' → 'answer'\n",
    "    #    - remove surrounding * or ** around YES/NO\n",
    "    text = re.sub(r\"(?i)\\basnwer\\b\", \"answer\", text)\n",
    "    text = re.sub(r\"[*_]*(YES|NO)[*_]*\", r\"\\1\", text, flags=re.IGNORECASE)\n",
    "\n",
    "    # 2. Scan from bottom to top for explicit final-answer labels\n",
    "    lines = text.split(\"\\n\")\n",
    "    for line in reversed(lines):\n",
    "        # a) Structured: final answer: YES / final-answer – NO / final answer – YES\n",
    "        m = re.search(\n",
    "            r\"\\bfinal[-\\s]*answer\\s*[:\\-–]?\\s*(YES|NO)\\b\",\n",
    "            line,\n",
    "            re.IGNORECASE,\n",
    "        )\n",
    "        if m:\n",
    "            return m.group(1).upper()\n",
    "\n",
    "        # b) Flexible: answer: YES / answer – NO\n",
    "        m = re.search(\n",
    "            r\"\\banswer\\s*[:\\-–]?\\s*(YES|NO)\\b\",\n",
    "            line,\n",
    "            re.IGNORECASE,\n",
    "        )\n",
    "        if m:\n",
    "            return m.group(1).upper()\n",
    "\n",
    "        # c) Phrased: the answer is YES / answer would be NO\n",
    "        m = re.search(\n",
    "            r\"\\b(?:the\\s+)?answer\\s+(?:is|would\\s+be|should\\s+be)\\s+(YES|NO)\\b\",\n",
    "            line,\n",
    "            re.IGNORECASE,\n",
    "        )\n",
    "        if m:\n",
    "            return m.group(1).upper()\n",
    "\n",
    "        # d) Standalone\n",
    "        if line.strip().upper() in {\"YES\", \"NO\"}:\n",
    "            return line.strip().upper()\n",
    "\n",
    "    # 3. Fallback to frequency count\n",
    "    upper = text.upper()\n",
    "    yes_count = len(re.findall(r\"\\bYES\\b\", upper))\n",
    "    no_count  = len(re.findall(r\"\\bNO\\b\", upper))\n",
    "    if yes_count > no_count:\n",
    "        return \"YES\"\n",
    "    # tie or more NOs\n",
    "    return \"NO\""
   ]
  },
  {
   "cell_type": "code",
   "execution_count": null,
   "metadata": {
    "colab": {
     "base_uri": "https://localhost:8080/",
     "height": 1000
    },
    "id": "R_hRWnbhclQ7",
    "outputId": "a3983c60-6e51-4005-a68f-9b5426dc8b4b"
   },
   "outputs": [],
   "source": [
    "from concurrent.futures import ThreadPoolExecutor\n",
    "from itertools import repeat\n",
    "import pandas as pd\n",
    "\n",
    "batch_size = 40\n",
    "pred_labels = []\n",
    "valid_true_labels = []\n",
    "results = []\n",
    "\n",
    "def process_batch(batch_imgs, batch_trues, encoded_yes_images, encoded_no_images):\n",
    "    base64_batch = [encode_image(p) for p in batch_imgs]\n",
    "\n",
    "    with ThreadPoolExecutor(max_workers=batch_size) as executor:\n",
    "        responses = executor.map(\n",
    "            make_request_few_shot,\n",
    "            base64_batch,\n",
    "            repeat(encoded_yes_images),\n",
    "            repeat(encoded_no_images),\n",
    "        )\n",
    "\n",
    "    for img_path, true_label, response in zip(batch_imgs, batch_trues, responses):\n",
    "        if response is None:\n",
    "            print(f\"❌ No response from model: {img_path}\")\n",
    "            continue\n",
    "\n",
    "        print(\"📝 Raw Response:\", response)\n",
    "        pred = extract_final_answer(response)\n",
    "\n",
    "        if pred in [\"YES\", \"NO\"]:\n",
    "            pred_labels.append(pred)\n",
    "            valid_true_labels.append(true_label)\n",
    "            print(f\"✅ Prediction: {pred} | True: {true_label}\")\n",
    "        else:\n",
    "            pred = \"UNKNOWN\"\n",
    "            print(f\"⚠️ Could not extract YES/NO: {img_path}\")\n",
    "\n",
    "        results.append({\n",
    "            \"image_id\": img_path,\n",
    "            \"true_label\": true_label,\n",
    "            \"prediction\": pred,\n",
    "            \"reasoning\": response\n",
    "        })\n",
    "\n",
    "\n",
    "# Execute batching logic\n",
    "for start in range(0, len(all_images), batch_size):\n",
    "    batch_imgs = all_images[start : start + batch_size]\n",
    "    batch_trues = true_labels[start : start + batch_size]\n",
    "\n",
    "    process_batch(batch_imgs, batch_trues, encoded_yes_images, encoded_no_images)"
   ]
  },
  {
   "cell_type": "code",
   "execution_count": null,
   "metadata": {
    "colab": {
     "base_uri": "https://localhost:8080/",
     "height": 472
    },
    "id": "xV7tU3DPhrsk",
    "outputId": "dc6e984e-94c6-4af3-de19-d1875a1d0bd8"
   },
   "outputs": [],
   "source": [
    "# 7. Confusion matrix (only on valid results)\n",
    "cm = confusion_matrix(valid_true_labels, pred_labels, labels=[\"YES\", \"NO\"])\n",
    "disp = ConfusionMatrixDisplay(confusion_matrix=cm, display_labels=[\"YES\", \"NO\"])\n",
    "disp.plot(cmap=plt.cm.Blues)\n",
    "plt.title(\"Confusion Matrix\")\n",
    "plt.show()"
   ]
  },
  {
   "cell_type": "code",
   "execution_count": null,
   "metadata": {
    "colab": {
     "base_uri": "https://localhost:8080/"
    },
    "id": "FQvAyhWCoZ2V",
    "outputId": "80cd6ad1-3be0-448c-c32b-b68afbd2f7e9"
   },
   "outputs": [],
   "source": [
    "# Classification report\n",
    "from sklearn.metrics import confusion_matrix, ConfusionMatrixDisplay, classification_report\n",
    "report = classification_report(valid_true_labels, pred_labels, labels=[\"YES\", \"NO\"])\n",
    "print(\"Classification Report:\")\n",
    "print(report)"
   ]
  },
  {
   "cell_type": "code",
   "execution_count": null,
   "metadata": {
    "id": "3U_k662hCvrR"
   },
   "outputs": [],
   "source": []
  }
 ],
 "metadata": {
  "colab": {
   "provenance": []
  },
  "kernelspec": {
   "display_name": "Python 3 (ipykernel)",
   "language": "python",
   "name": "python3"
  },
  "language_info": {
   "codemirror_mode": {
    "name": "ipython",
    "version": 3
   },
   "file_extension": ".py",
   "mimetype": "text/x-python",
   "name": "python",
   "nbconvert_exporter": "python",
   "pygments_lexer": "ipython3",
   "version": "3.11.9"
  }
 },
 "nbformat": 4,
 "nbformat_minor": 4
}
